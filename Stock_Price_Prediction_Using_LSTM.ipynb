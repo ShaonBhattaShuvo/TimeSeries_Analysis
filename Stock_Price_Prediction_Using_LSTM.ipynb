{
 "cells": [
  {
   "cell_type": "code",
   "execution_count": 1,
   "id": "81db3776",
   "metadata": {},
   "outputs": [],
   "source": [
    "#importing the required libraries\n",
    "import numpy as np\n",
    "import pandas as pd\n",
    "import matplotlib.pyplot as plt\n",
    "import torch\n",
    "import torch.nn as nn"
   ]
  },
  {
   "cell_type": "code",
   "execution_count": 2,
   "id": "67b52386",
   "metadata": {},
   "outputs": [],
   "source": [
    "#Loading the dataset\n",
    "df = pd.read_csv('Amazon_Stock.csv')"
   ]
  },
  {
   "cell_type": "code",
   "execution_count": 3,
   "id": "f31b4097",
   "metadata": {},
   "outputs": [
    {
     "data": {
      "text/html": [
       "<div>\n",
       "<style scoped>\n",
       "    .dataframe tbody tr th:only-of-type {\n",
       "        vertical-align: middle;\n",
       "    }\n",
       "\n",
       "    .dataframe tbody tr th {\n",
       "        vertical-align: top;\n",
       "    }\n",
       "\n",
       "    .dataframe thead th {\n",
       "        text-align: right;\n",
       "    }\n",
       "</style>\n",
       "<table border=\"1\" class=\"dataframe\">\n",
       "  <thead>\n",
       "    <tr style=\"text-align: right;\">\n",
       "      <th></th>\n",
       "      <th>Date</th>\n",
       "      <th>Open</th>\n",
       "      <th>High</th>\n",
       "      <th>Low</th>\n",
       "      <th>Close</th>\n",
       "      <th>Adj Close</th>\n",
       "      <th>Volume</th>\n",
       "    </tr>\n",
       "  </thead>\n",
       "  <tbody>\n",
       "    <tr>\n",
       "      <th>0</th>\n",
       "      <td>1997-05-15</td>\n",
       "      <td>0.121875</td>\n",
       "      <td>0.125000</td>\n",
       "      <td>0.096354</td>\n",
       "      <td>0.097917</td>\n",
       "      <td>0.097917</td>\n",
       "      <td>1443120000</td>\n",
       "    </tr>\n",
       "    <tr>\n",
       "      <th>1</th>\n",
       "      <td>1997-05-16</td>\n",
       "      <td>0.098438</td>\n",
       "      <td>0.098958</td>\n",
       "      <td>0.085417</td>\n",
       "      <td>0.086458</td>\n",
       "      <td>0.086458</td>\n",
       "      <td>294000000</td>\n",
       "    </tr>\n",
       "    <tr>\n",
       "      <th>2</th>\n",
       "      <td>1997-05-19</td>\n",
       "      <td>0.088021</td>\n",
       "      <td>0.088542</td>\n",
       "      <td>0.081250</td>\n",
       "      <td>0.085417</td>\n",
       "      <td>0.085417</td>\n",
       "      <td>122136000</td>\n",
       "    </tr>\n",
       "    <tr>\n",
       "      <th>3</th>\n",
       "      <td>1997-05-20</td>\n",
       "      <td>0.086458</td>\n",
       "      <td>0.087500</td>\n",
       "      <td>0.081771</td>\n",
       "      <td>0.081771</td>\n",
       "      <td>0.081771</td>\n",
       "      <td>109344000</td>\n",
       "    </tr>\n",
       "    <tr>\n",
       "      <th>4</th>\n",
       "      <td>1997-05-21</td>\n",
       "      <td>0.081771</td>\n",
       "      <td>0.082292</td>\n",
       "      <td>0.068750</td>\n",
       "      <td>0.071354</td>\n",
       "      <td>0.071354</td>\n",
       "      <td>377064000</td>\n",
       "    </tr>\n",
       "  </tbody>\n",
       "</table>\n",
       "</div>"
      ],
      "text/plain": [
       "         Date      Open      High       Low     Close  Adj Close      Volume\n",
       "0  1997-05-15  0.121875  0.125000  0.096354  0.097917   0.097917  1443120000\n",
       "1  1997-05-16  0.098438  0.098958  0.085417  0.086458   0.086458   294000000\n",
       "2  1997-05-19  0.088021  0.088542  0.081250  0.085417   0.085417   122136000\n",
       "3  1997-05-20  0.086458  0.087500  0.081771  0.081771   0.081771   109344000\n",
       "4  1997-05-21  0.081771  0.082292  0.068750  0.071354   0.071354   377064000"
      ]
     },
     "execution_count": 3,
     "metadata": {},
     "output_type": "execute_result"
    }
   ],
   "source": [
    "df.head()"
   ]
  },
  {
   "cell_type": "code",
   "execution_count": 4,
   "id": "8d5318cc",
   "metadata": {},
   "outputs": [
    {
     "data": {
      "text/plain": [
       "Index(['Date', 'Open', 'High', 'Low', 'Close', 'Adj Close', 'Volume'], dtype='object')"
      ]
     },
     "execution_count": 4,
     "metadata": {},
     "output_type": "execute_result"
    }
   ],
   "source": [
    "df.columns"
   ]
  },
  {
   "cell_type": "code",
   "execution_count": 5,
   "id": "c470485e",
   "metadata": {},
   "outputs": [
    {
     "data": {
      "text/html": [
       "<div>\n",
       "<style scoped>\n",
       "    .dataframe tbody tr th:only-of-type {\n",
       "        vertical-align: middle;\n",
       "    }\n",
       "\n",
       "    .dataframe tbody tr th {\n",
       "        vertical-align: top;\n",
       "    }\n",
       "\n",
       "    .dataframe thead th {\n",
       "        text-align: right;\n",
       "    }\n",
       "</style>\n",
       "<table border=\"1\" class=\"dataframe\">\n",
       "  <thead>\n",
       "    <tr style=\"text-align: right;\">\n",
       "      <th></th>\n",
       "      <th>Date</th>\n",
       "      <th>Close</th>\n",
       "    </tr>\n",
       "  </thead>\n",
       "  <tbody>\n",
       "    <tr>\n",
       "      <th>0</th>\n",
       "      <td>1997-05-15</td>\n",
       "      <td>0.097917</td>\n",
       "    </tr>\n",
       "    <tr>\n",
       "      <th>1</th>\n",
       "      <td>1997-05-16</td>\n",
       "      <td>0.086458</td>\n",
       "    </tr>\n",
       "    <tr>\n",
       "      <th>2</th>\n",
       "      <td>1997-05-19</td>\n",
       "      <td>0.085417</td>\n",
       "    </tr>\n",
       "  </tbody>\n",
       "</table>\n",
       "</div>"
      ],
      "text/plain": [
       "         Date     Close\n",
       "0  1997-05-15  0.097917\n",
       "1  1997-05-16  0.086458\n",
       "2  1997-05-19  0.085417"
      ]
     },
     "execution_count": 5,
     "metadata": {},
     "output_type": "execute_result"
    }
   ],
   "source": [
    "#Taking only the columns needed for the analysis\n",
    "df = df[['Date', 'Close']]\n",
    "df.head(3)"
   ]
  },
  {
   "cell_type": "code",
   "execution_count": 6,
   "id": "09c9ed73",
   "metadata": {},
   "outputs": [],
   "source": [
    "device = 'cuda:0' if torch.cuda.is_available() else 'cpu'"
   ]
  },
  {
   "cell_type": "code",
   "execution_count": 7,
   "id": "25e9de0f",
   "metadata": {},
   "outputs": [],
   "source": [
    "df['Date'] = pd.to_datetime(df['Date'])"
   ]
  },
  {
   "cell_type": "code",
   "execution_count": 8,
   "id": "46f528c7",
   "metadata": {},
   "outputs": [
    {
     "data": {
      "text/plain": [
       "[<matplotlib.lines.Line2D at 0x7fd1f0b65670>]"
      ]
     },
     "execution_count": 8,
     "metadata": {},
     "output_type": "execute_result"
    },
    {
     "data": {
      "image/png": "[encoded data removed]",
      "text/plain": [
       "<Figure size 640x480 with 1 Axes>"
      ]
     },
     "metadata": {},
     "output_type": "display_data"
    }
   ],
   "source": [
    "#Plotting the values\n",
    "plt.plot(df['Date'], df['Close'])"
   ]
  },
  {
   "cell_type": "code",
   "execution_count": 9,
   "id": "3eec543e",
   "metadata": {},
   "outputs": [],
   "source": [
    "#Dataframe preparation for lstm\n",
    "from copy import deepcopy\n",
    "\n",
    "def dataframe_generator(df, nsteps):\n",
    "    df = deepcopy(df)\n",
    "    df.set_index('Date', inplace = True)\n",
    "    \n",
    "    for i in range(1, nsteps +1):\n",
    "        df[f'Close(t-{i})'] = df['Close'].shift(i)\n",
    "    \n",
    "    df.dropna(inplace = True)\n",
    "    return df\n",
    "\n",
    "nsteps = 7 #lookingback at last 7 days\n",
    "df_updated = dataframe_generator(df, nsteps)"
   ]
  },
  {
   "cell_type": "code",
   "execution_count": 10,
   "id": "f0866eb1",
   "metadata": {},
   "outputs": [
    {
     "data": {
      "text/html": [
       "<div>\n",
       "<style scoped>\n",
       "    .dataframe tbody tr th:only-of-type {\n",
       "        vertical-align: middle;\n",
       "    }\n",
       "\n",
       "    .dataframe tbody tr th {\n",
       "        vertical-align: top;\n",
       "    }\n",
       "\n",
       "    .dataframe thead th {\n",
       "        text-align: right;\n",
       "    }\n",
       "</style>\n",
       "<table border=\"1\" class=\"dataframe\">\n",
       "  <thead>\n",
       "    <tr style=\"text-align: right;\">\n",
       "      <th></th>\n",
       "      <th>Close</th>\n",
       "      <th>Close(t-1)</th>\n",
       "      <th>Close(t-2)</th>\n",
       "      <th>Close(t-3)</th>\n",
       "      <th>Close(t-4)</th>\n",
       "      <th>Close(t-5)</th>\n",
       "      <th>Close(t-6)</th>\n",
       "      <th>Close(t-7)</th>\n",
       "    </tr>\n",
       "    <tr>\n",
       "      <th>Date</th>\n",
       "      <th></th>\n",
       "      <th></th>\n",
       "      <th></th>\n",
       "      <th></th>\n",
       "      <th></th>\n",
       "      <th></th>\n",
       "      <th></th>\n",
       "      <th></th>\n",
       "    </tr>\n",
       "  </thead>\n",
       "  <tbody>\n",
       "    <tr>\n",
       "      <th>1997-05-27</th>\n",
       "      <td>0.079167</td>\n",
       "      <td>0.075000</td>\n",
       "      <td>0.069792</td>\n",
       "      <td>0.071354</td>\n",
       "      <td>0.081771</td>\n",
       "      <td>0.085417</td>\n",
       "      <td>0.086458</td>\n",
       "      <td>0.097917</td>\n",
       "    </tr>\n",
       "    <tr>\n",
       "      <th>1997-05-28</th>\n",
       "      <td>0.076563</td>\n",
       "      <td>0.079167</td>\n",
       "      <td>0.075000</td>\n",
       "      <td>0.069792</td>\n",
       "      <td>0.071354</td>\n",
       "      <td>0.081771</td>\n",
       "      <td>0.085417</td>\n",
       "      <td>0.086458</td>\n",
       "    </tr>\n",
       "    <tr>\n",
       "      <th>1997-05-29</th>\n",
       "      <td>0.075260</td>\n",
       "      <td>0.076563</td>\n",
       "      <td>0.079167</td>\n",
       "      <td>0.075000</td>\n",
       "      <td>0.069792</td>\n",
       "      <td>0.071354</td>\n",
       "      <td>0.081771</td>\n",
       "      <td>0.085417</td>\n",
       "    </tr>\n",
       "    <tr>\n",
       "      <th>1997-05-30</th>\n",
       "      <td>0.075000</td>\n",
       "      <td>0.075260</td>\n",
       "      <td>0.076563</td>\n",
       "      <td>0.079167</td>\n",
       "      <td>0.075000</td>\n",
       "      <td>0.069792</td>\n",
       "      <td>0.071354</td>\n",
       "      <td>0.081771</td>\n",
       "    </tr>\n",
       "  </tbody>\n",
       "</table>\n",
       "</div>"
      ],
      "text/plain": [
       "               Close  Close(t-1)  Close(t-2)  Close(t-3)  Close(t-4)  \\\n",
       "Date                                                                   \n",
       "1997-05-27  0.079167    0.075000    0.069792    0.071354    0.081771   \n",
       "1997-05-28  0.076563    0.079167    0.075000    0.069792    0.071354   \n",
       "1997-05-29  0.075260    0.076563    0.079167    0.075000    0.069792   \n",
       "1997-05-30  0.075000    0.075260    0.076563    0.079167    0.075000   \n",
       "\n",
       "            Close(t-5)  Close(t-6)  Close(t-7)  \n",
       "Date                                            \n",
       "1997-05-27    0.085417    0.086458    0.097917  \n",
       "1997-05-28    0.081771    0.085417    0.086458  \n",
       "1997-05-29    0.071354    0.081771    0.085417  \n",
       "1997-05-30    0.069792    0.071354    0.081771  "
      ]
     },
     "execution_count": 10,
     "metadata": {},
     "output_type": "execute_result"
    }
   ],
   "source": [
    "df_updated.head(4)"
   ]
  },
  {
   "cell_type": "code",
   "execution_count": 11,
   "id": "97cc0dba",
   "metadata": {},
   "outputs": [],
   "source": [
    "#converting data_frame to numpy data\n",
    "df_np = df_updated.to_numpy()"
   ]
  },
  {
   "cell_type": "code",
   "execution_count": 12,
   "id": "21a06908",
   "metadata": {},
   "outputs": [
    {
     "data": {
      "text/plain": [
       "(6509, 8)"
      ]
     },
     "execution_count": 12,
     "metadata": {},
     "output_type": "execute_result"
    }
   ],
   "source": [
    "df_np.shape"
   ]
  },
  {
   "cell_type": "code",
   "execution_count": 13,
   "id": "7d271533",
   "metadata": {},
   "outputs": [],
   "source": [
    "# Normalizing the data between -1 to 1\n",
    "from sklearn.preprocessing import MinMaxScaler\n",
    "scaler = MinMaxScaler(feature_range=(-1, 1))\n",
    "df_np = scaler.fit_transform(df_np)"
   ]
  },
  {
   "cell_type": "code",
   "execution_count": 14,
   "id": "ee137ee4",
   "metadata": {},
   "outputs": [
    {
     "data": {
      "text/plain": [
       "array([[-0.99991063, -0.99995531, -1.        , ..., -0.99983244,\n",
       "        -0.99982128, -0.99969839],\n",
       "       [-0.99993855, -0.99991063, -0.99994415, ..., -0.99987154,\n",
       "        -0.99983244, -0.99982128],\n",
       "       [-0.99995253, -0.99993855, -0.99989946, ..., -0.99998325,\n",
       "        -0.99987154, -0.99983244],\n",
       "       ...,\n",
       "       [ 0.09747299,  0.10690997,  0.09308121, ...,  0.0506149 ,\n",
       "         0.05158   ,  0.05779984],\n",
       "       [ 0.11398769,  0.09747299,  0.10691495, ...,  0.04203581,\n",
       "         0.0506149 ,  0.05158   ],\n",
       "       [ 0.08342464,  0.11398769,  0.09747802, ...,  0.07431453,\n",
       "         0.04203581,  0.0506149 ]])"
      ]
     },
     "execution_count": 14,
     "metadata": {},
     "output_type": "execute_result"
    }
   ],
   "source": [
    "df_np"
   ]
  },
  {
   "cell_type": "code",
   "execution_count": 15,
   "id": "6cc97b95",
   "metadata": {},
   "outputs": [],
   "source": [
    "X = df_np[:, 1:]\n",
    "y = df_np[:, 0]"
   ]
  },
  {
   "cell_type": "code",
   "execution_count": 16,
   "id": "3d5aed52",
   "metadata": {},
   "outputs": [
    {
     "data": {
      "text/plain": [
       "((6509, 7), (6509,))"
      ]
     },
     "execution_count": 16,
     "metadata": {},
     "output_type": "execute_result"
    }
   ],
   "source": [
    "#shape must bee matching accordingly\n",
    "X.shape, y.shape"
   ]
  },
  {
   "cell_type": "code",
   "execution_count": 17,
   "id": "3f7a2911",
   "metadata": {},
   "outputs": [
    {
     "data": {
      "text/plain": [
       "array([[-0.99969839, -0.99982128, -0.99983244, ..., -0.99998325,\n",
       "        -1.        , -0.99995531],\n",
       "       [-0.99982128, -0.99983244, -0.99987154, ..., -1.        ,\n",
       "        -0.99994415, -0.99991063],\n",
       "       [-0.99983244, -0.99987154, -0.99998325, ..., -0.99994415,\n",
       "        -0.99989946, -0.99993855],\n",
       "       ...,\n",
       "       [ 0.05779984,  0.05158   ,  0.0506149 , ...,  0.07431453,\n",
       "         0.09308121,  0.10690997],\n",
       "       [ 0.05158   ,  0.0506149 ,  0.04203581, ...,  0.09308121,\n",
       "         0.10691495,  0.09747299],\n",
       "       [ 0.0506149 ,  0.04203581,  0.07431453, ...,  0.10691495,\n",
       "         0.09747802,  0.11398769]])"
      ]
     },
     "execution_count": 17,
     "metadata": {},
     "output_type": "execute_result"
    }
   ],
   "source": [
    "#wee need to flip the dataset so that it shows the order as t - nstpe, t-nstep-1, t-step-2 and so on\n",
    "X = deepcopy(np.flip(X, axis = 1))\n",
    "X"
   ]
  },
  {
   "cell_type": "code",
   "execution_count": 18,
   "id": "c642bf38",
   "metadata": {},
   "outputs": [
    {
     "data": {
      "text/plain": [
       "5207"
      ]
     },
     "execution_count": 18,
     "metadata": {},
     "output_type": "execute_result"
    }
   ],
   "source": [
    "split_index = int(0.80 * len(X))\n",
    "split_index"
   ]
  },
  {
   "cell_type": "code",
   "execution_count": 19,
   "id": "8c0c7043",
   "metadata": {},
   "outputs": [
    {
     "data": {
      "text/plain": [
       "((5207, 7), (5207,), (1302, 7), (1302,))"
      ]
     },
     "execution_count": 19,
     "metadata": {},
     "output_type": "execute_result"
    }
   ],
   "source": [
    "X_train = X[:split_index]\n",
    "X_test = X[split_index:]\n",
    "y_train = y[:split_index]\n",
    "y_test = y[split_index:]\n",
    "X_train.shape, y_train.shape, X_test.shape, y_test.shape"
   ]
  },
  {
   "cell_type": "code",
   "execution_count": 20,
   "id": "729f6777",
   "metadata": {},
   "outputs": [
    {
     "data": {
      "text/plain": [
       "((5207, 7, 1), (5207, 1), (1302, 7, 1), (1302, 1))"
      ]
     },
     "execution_count": 20,
     "metadata": {},
     "output_type": "execute_result"
    }
   ],
   "source": [
    "#Reshaping the training and test set\n",
    "X_train = X_train.reshape((-1, nsteps, 1))\n",
    "X_test = X_test.reshape((-1, nsteps, 1))\n",
    "\n",
    "y_train = y_train.reshape((-1, 1))\n",
    "y_test = y_test.reshape((-1, 1))\n",
    "X_train.shape, y_train.shape, X_test.shape, y_test.shape"
   ]
  },
  {
   "cell_type": "code",
   "execution_count": 21,
   "id": "3ce5285d",
   "metadata": {},
   "outputs": [
    {
     "data": {
      "text/plain": [
       "(torch.Size([5207, 7, 1]),\n",
       " torch.Size([5207, 1]),\n",
       " torch.Size([1302, 7, 1]),\n",
       " torch.Size([1302, 1]))"
      ]
     },
     "execution_count": 21,
     "metadata": {},
     "output_type": "execute_result"
    }
   ],
   "source": [
    "# Converting the data as tensor\n",
    "X_train = torch.tensor(X_train).float()\n",
    "X_test = torch.tensor(X_test).float()\n",
    "y_train = torch.tensor(y_train).float()\n",
    "y_test = torch.tensor(y_test).float()\n",
    "X_train.shape, y_train.shape, X_test.shape, y_test.shape"
   ]
  },
  {
   "cell_type": "code",
   "execution_count": 22,
   "id": "bb6cc9c2",
   "metadata": {},
   "outputs": [],
   "source": [
    "#time series dataset for training and testing \n",
    "from torch.utils.data import Dataset\n",
    "\n",
    "class TimeSeriesDataset(Dataset):\n",
    "    def __init__(self, X, y):\n",
    "        self.X = X\n",
    "        self.y = y\n",
    "    \n",
    "    def __len__(self):\n",
    "        return len(self.X)\n",
    "    \n",
    "    def __getitem__(self, i):\n",
    "        return self.X[i], self.y[i]\n",
    "    \n",
    "train_dataset = TimeSeriesDataset(X_train, y_train)\n",
    "test_dataset = TimeSeriesDataset(X_test, y_test)"
   ]
  },
  {
   "cell_type": "code",
   "execution_count": 23,
   "id": "ef105d93",
   "metadata": {},
   "outputs": [
    {
     "data": {
      "text/plain": [
       "(<__main__.TimeSeriesDataset at 0x7fd201fb1250>,\n",
       " <__main__.TimeSeriesDataset at 0x7fd201fb1070>)"
      ]
     },
     "execution_count": 23,
     "metadata": {},
     "output_type": "execute_result"
    }
   ],
   "source": [
    "train_dataset, test_dataset"
   ]
  },
  {
   "cell_type": "code",
   "execution_count": 24,
   "id": "6e6a9c19",
   "metadata": {},
   "outputs": [
    {
     "name": "stdout",
     "output_type": "stream",
     "text": [
      "torch.Size([10, 7, 1]) torch.Size([10, 1])\n"
     ]
    }
   ],
   "source": [
    "#Dataloader to load the dataset\n",
    "from torch.utils.data import DataLoader\n",
    "\n",
    "batch_size = 10\n",
    "train_loader = DataLoader(train_dataset, batch_size = batch_size, shuffle = True)\n",
    "test_loader = DataLoader(test_dataset, batch_size = batch_size, shuffle = False)\n",
    "\n",
    "for _, batch in enumerate(train_loader):\n",
    "    x_batch, y_batch = batch[0].to(device), batch[1].to(device)\n",
    "    print(x_batch.shape, y_batch.shape)\n",
    "    break"
   ]
  },
  {
   "cell_type": "code",
   "execution_count": 25,
   "id": "5a728508",
   "metadata": {},
   "outputs": [
    {
     "data": {
      "text/plain": [
       "LSTM(\n",
       "  (lstm): LSTM(1, 4, batch_first=True)\n",
       "  (fc): Linear(in_features=4, out_features=1, bias=True)\n",
       ")"
      ]
     },
     "execution_count": 25,
     "metadata": {},
     "output_type": "execute_result"
    }
   ],
   "source": [
    "#Create LSTM class\n",
    "class LSTM(nn.Module):\n",
    "    def __init__(self, input_size, hidden_size, num_stacked_layers):\n",
    "        super().__init__()\n",
    "        self.hidden_size = hidden_size\n",
    "        self.num_stacked_layers = num_stacked_layers\n",
    "        \n",
    "        self.lstm = nn.LSTM(input_size, hidden_size, num_stacked_layers, batch_first = True)\n",
    "        \n",
    "        self.fc = nn.Linear(hidden_size, 1)\n",
    "        \n",
    "    def forward(self, x):\n",
    "        batch_size = x.size(0)\n",
    "        h0 = torch.zeros(self.num_stacked_layers, batch_size, self.hidden_size).to(device)\n",
    "        c0 = torch.zeros(self.num_stacked_layers, batch_size, self.hidden_size).to(device)\n",
    "        \n",
    "        out, _ = self.lstm(x, (h0, c0))\n",
    "        out = self.fc(out[:, -1, :])\n",
    "        return out\n",
    "    \n",
    "#Buliding the model\n",
    "model = LSTM(1, 4, 1)\n",
    "model.to(device)\n",
    "model"
   ]
  },
  {
   "cell_type": "code",
   "execution_count": 28,
   "id": "7975f520",
   "metadata": {},
   "outputs": [],
   "source": [
    "# defining functions for training and validating a through a single epoch\n",
    "def train_one_epoch():\n",
    "    model.train(True)\n",
    "    print(f'Epoch: {epoch + 1}')\n",
    "    curr_loss = 0.0\n",
    "    \n",
    "    for batch_index, batch in enumerate(train_loader):\n",
    "        x_batch, y_batch = batch[0].to(device), batch[1].to(device)\n",
    "        \n",
    "        output = model(x_batch)\n",
    "        loss = loss_function(output, y_batch)\n",
    "        curr_loss += loss.item()\n",
    "        \n",
    "        optimizer.zero_grad()\n",
    "        loss.backward()\n",
    "        optimizer.step()\n",
    "        \n",
    "        if batch_index % 100 == 99:\n",
    "            avg_loss = curr_loss/100\n",
    "            print(f'Batach: {batch_index+1}, Loss:{avg_loss}')\n",
    "            curr_loss = 0.0\n",
    "        \n",
    "    print()\n",
    "    \n",
    "def validate_one_epoch():\n",
    "    model.train(False)\n",
    "    curr_loss = 0.0\n",
    "    \n",
    "    for batch_index, batch in enumerate(test_loader):\n",
    "        x_batch, y_batch = batch[0].to(device), batch[1].to(device)\n",
    "        \n",
    "        with torch.no_grad():\n",
    "            output = model(x_batch)\n",
    "            loss = loss_function(output, y_batch)\n",
    "            curr_loss += loss.item()\n",
    "    \n",
    "    avg_loss = curr_loss / len(test_loader)\n",
    "    \n",
    "    print('Val loss: {avg_loss}')\n",
    "    print('***************************************')\n",
    "    print()"
   ]
  },
  {
   "cell_type": "code",
   "execution_count": 29,
   "id": "bc7248f0",
   "metadata": {},
   "outputs": [
    {
     "name": "stdout",
     "output_type": "stream",
     "text": [
      "Epoch: 1\n",
      "Batach: 100, Loss:0.09242717356537469\n",
      "Batach: 200, Loss:0.010580664490662457\n",
      "Batach: 300, Loss:0.0002789606982241821\n",
      "Batach: 400, Loss:0.0002327885404247354\n",
      "Batach: 500, Loss:0.00018681417450352455\n",
      "\n",
      "Val loss: {avg_loss}\n",
      "***************************************\n",
      "\n",
      "Epoch: 2\n",
      "Batach: 100, Loss:0.00011529982155025209\n",
      "Batach: 200, Loss:0.00014694461127874093\n",
      "Batach: 300, Loss:9.746098161485862e-05\n",
      "Batach: 400, Loss:0.00012830480987759075\n",
      "Batach: 500, Loss:9.227454816027603e-05\n",
      "\n",
      "Val loss: {avg_loss}\n",
      "***************************************\n",
      "\n",
      "Epoch: 3\n",
      "Batach: 100, Loss:7.32427012280823e-05\n",
      "Batach: 200, Loss:0.00010297656001057476\n",
      "Batach: 300, Loss:8.008812934804155e-05\n",
      "Batach: 400, Loss:4.843624062232266e-05\n",
      "Batach: 500, Loss:6.562666744912349e-05\n",
      "\n",
      "Val loss: {avg_loss}\n",
      "***************************************\n",
      "\n",
      "Epoch: 4\n",
      "Batach: 100, Loss:4.939371864566056e-05\n",
      "Batach: 200, Loss:6.643399610311462e-05\n",
      "Batach: 300, Loss:9.474568200857902e-05\n",
      "Batach: 400, Loss:5.717149563906787e-05\n",
      "Batach: 500, Loss:2.61611530868322e-05\n",
      "\n",
      "Val loss: {avg_loss}\n",
      "***************************************\n",
      "\n",
      "Epoch: 5\n",
      "Batach: 100, Loss:4.174759180841647e-05\n",
      "Batach: 200, Loss:2.7470526269439688e-05\n",
      "Batach: 300, Loss:4.746731028717477e-05\n",
      "Batach: 400, Loss:4.61702590018831e-05\n",
      "Batach: 500, Loss:2.9700589809635858e-05\n",
      "\n",
      "Val loss: {avg_loss}\n",
      "***************************************\n",
      "\n",
      "Epoch: 6\n",
      "Batach: 100, Loss:4.5453787725477925e-05\n",
      "Batach: 200, Loss:2.826255451054749e-05\n",
      "Batach: 300, Loss:4.98493949027079e-05\n",
      "Batach: 400, Loss:3.7600200764700274e-05\n",
      "Batach: 500, Loss:3.108114123506312e-05\n",
      "\n",
      "Val loss: {avg_loss}\n",
      "***************************************\n",
      "\n",
      "Epoch: 7\n",
      "Batach: 100, Loss:3.316177747592519e-05\n",
      "Batach: 200, Loss:2.7865323240803263e-05\n",
      "Batach: 300, Loss:3.06212871862499e-05\n",
      "Batach: 400, Loss:3.84197186201618e-05\n",
      "Batach: 500, Loss:2.800201596869556e-05\n",
      "\n",
      "Val loss: {avg_loss}\n",
      "***************************************\n",
      "\n",
      "Epoch: 8\n",
      "Batach: 100, Loss:3.464710737603127e-05\n",
      "Batach: 200, Loss:2.1610258984310348e-05\n",
      "Batach: 300, Loss:6.783143322309116e-05\n",
      "Batach: 400, Loss:3.523402383052599e-05\n",
      "Batach: 500, Loss:3.6901168515441894e-05\n",
      "\n",
      "Val loss: {avg_loss}\n",
      "***************************************\n",
      "\n",
      "Epoch: 9\n",
      "Batach: 100, Loss:2.786394023644334e-05\n",
      "Batach: 200, Loss:2.886076370032242e-05\n",
      "Batach: 300, Loss:2.9084872480780177e-05\n",
      "Batach: 400, Loss:6.183095309097552e-05\n",
      "Batach: 500, Loss:3.0216051023899126e-05\n",
      "\n",
      "Val loss: {avg_loss}\n",
      "***************************************\n",
      "\n",
      "Epoch: 10\n",
      "Batach: 100, Loss:2.9629664323920226e-05\n",
      "Batach: 200, Loss:4.0445534204991417e-05\n",
      "Batach: 300, Loss:5.307459675123027e-05\n",
      "Batach: 400, Loss:2.3338192364121823e-05\n",
      "Batach: 500, Loss:1.6502755391911707e-05\n",
      "\n",
      "Val loss: {avg_loss}\n",
      "***************************************\n",
      "\n"
     ]
    }
   ],
   "source": [
    "learning_rate = 0.01\n",
    "num_epochs = 10\n",
    "loss_function = nn.MSELoss()\n",
    "optimizer = torch.optim.Adam(model.parameters(), lr = learning_rate)\n",
    "\n",
    "for epoch in range(num_epochs):\n",
    "    train_one_epoch()\n",
    "    validate_one_epoch()\n",
    "    "
   ]
  },
  {
   "cell_type": "code",
   "execution_count": 31,
   "id": "03b86913",
   "metadata": {},
   "outputs": [
    {
     "data": {
      "image/png": "[encoded data removed]",
      "text/plain": [
       "<Figure size 640x480 with 1 Axes>"
      ]
     },
     "metadata": {},
     "output_type": "display_data"
    }
   ],
   "source": [
    "#Prediction\n",
    "with torch.no_grad():\n",
    "    predicted = model(X_test.to(device)).numpy()\n",
    "\n",
    "plt.plot(y_test, label = 'Actual test values')\n",
    "plt.plot(predicted, label = 'Predicted values')\n",
    "plt.xlabel('Day')\n",
    "plt.ylabel('Close')\n",
    "plt.title()\n",
    "plt.legend()\n",
    "plt.show()"
   ]
  },
  {
   "cell_type": "code",
   "execution_count": 32,
   "id": "e3323d63",
   "metadata": {},
   "outputs": [
    {
     "data": {
      "image/png": "[encoded data removed]",
      "text/plain": [
       "<Figure size 640x480 with 1 Axes>"
      ]
     },
     "metadata": {},
     "output_type": "display_data"
    }
   ],
   "source": [
    "#Prediction\n",
    "with torch.no_grad():\n",
    "    predicted = model(X_train.to(device)).numpy()\n",
    "\n",
    "plt.plot(y_train, label = 'Actual test values')\n",
    "plt.plot(predicted, label = 'Predicted values')\n",
    "plt.xlabel('Day')\n",
    "plt.ylabel('Close')\n",
    "plt.legend()\n",
    "plt.show()"
   ]
  },
  {
   "cell_type": "code",
   "execution_count": null,
   "id": "c0ce670d",
   "metadata": {},
   "outputs": [],
   "source": []
  }
 ],
 "metadata": {
  "kernelspec": {
   "display_name": "Python 3 (ipykernel)",
   "language": "python",
   "name": "python3"
  },
  "language_info": {
   "codemirror_mode": {
    "name": "ipython",
    "version": 3
   },
   "file_extension": ".py",
   "mimetype": "text/x-python",
   "name": "python",
   "nbconvert_exporter": "python",
   "pygments_lexer": "ipython3",
   "version": "3.9.7"
  }
 },
 "nbformat": 4,
 "nbformat_minor": 5
}
